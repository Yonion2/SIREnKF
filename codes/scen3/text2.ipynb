{
 "cells": [
  {
   "cell_type": "code",
   "execution_count": 3,
   "metadata": {},
   "outputs": [
    {
     "name": "stdout",
     "output_type": "stream",
     "text": [
      "save to:--->  ./res_1209-10/all/beta0.01_gamma0.01_meaboth_Qx0.0001_Qp0.0001_Px_0.0005_Pp0.01_Rx0.005_N50_L10ws100.0020.001\n"
     ]
    },
    {
     "name": "stderr",
     "output_type": "stream",
     "text": [
      "Test: 100%|██████████| 3000/3000 [22:24<00:00,  2.23it/s, param=(0.0019701880190021196, 0.001239716892902432)] \n"
     ]
    },
    {
     "name": "stdout",
     "output_type": "stream",
     "text": [
      "save to:--->  ./res_1209-10/all/beta0.01_gamma0.01_meaboth_Qx0.0001_Qp0.0001_Px_0.0005_Pp0.01_Rx0.005_N50_L10ws1000.0020.001\n"
     ]
    },
    {
     "name": "stderr",
     "output_type": "stream",
     "text": [
      "Test: 100%|██████████| 3000/3000 [58:03<00:00,  1.16s/it, param=(0.0020190645459755843, 0.0011878381241925869)] \n"
     ]
    },
    {
     "name": "stdout",
     "output_type": "stream",
     "text": [
      "save to:--->  ./res_1209-10/all/beta0.01_gamma0.01_meaboth_Qx0.0001_Qp0.0001_Px_0.0005_Pp0.01_Rx0.005_N50_L10ws2000.0020.001\n"
     ]
    },
    {
     "name": "stderr",
     "output_type": "stream",
     "text": [
      "Test: 100%|██████████| 3000/3000 [1:27:37<00:00,  1.75s/it, param=(0.0021208070151822207, 0.001296192811703129)]   \n"
     ]
    },
    {
     "name": "stdout",
     "output_type": "stream",
     "text": [
      "save to:--->  ./res_1209-10/all/beta0.01_gamma0.01_meaboth_Qx0.0001_Qp0.0001_Px_0.0005_Pp0.01_Rx0.005_N50_L10ws3000.0020.001\n"
     ]
    },
    {
     "name": "stderr",
     "output_type": "stream",
     "text": [
      "Test: 100%|██████████| 3000/3000 [2:05:34<00:00,  2.51s/it, param=(0.002222228865242983, 0.0012421969595823494)]   \n"
     ]
    },
    {
     "ename": "",
     "evalue": "",
     "output_type": "error",
     "traceback": [
      "\u001b[1;31mThe Kernel crashed while executing code in the current cell or a previous cell. \n",
      "\u001b[1;31mPlease review the code in the cell(s) to identify a possible cause of the failure. \n",
      "\u001b[1;31mClick <a href='https://aka.ms/vscodeJupyterKernelCrash'>here</a> for more info. \n",
      "\u001b[1;31mView Jupyter <a href='command:jupyter.viewOutput'>log</a> for further details."
     ]
    }
   ],
   "source": [
    "import ndlib.models.epidemics as ep\n",
    "import ndlib.models.ModelConfig as mc\n",
    "from utils import save_obj\n",
    "from enkf_diffnet import run\n",
    "import networkx as nx\n",
    "beta_t = 0.002\n",
    "gamma_t = 0.001\n",
    "Is = 0.002\n",
    "for type in ['er','ba','ws']:\n",
    "    if type == 'ws':\n",
    "        for d in [10, 100, 200, 300]:\n",
    "            graph_para = {'type':'ws','p_e': 0.1, 'p_w':0.1, 'd':d, 'm': 5,  'n_nodes': 5000}\n",
    "            g = nx.random_graphs.watts_strogatz_graph(5000, d, 0.1)\n",
    "            n_nodes = 5000\n",
    "            model = ep.SIRModel(g)\n",
    "            cfg = mc.Configuration()\n",
    "            cfg.add_model_parameter('beta', beta_t)\n",
    "            cfg.add_model_parameter('gamma', gamma_t)\n",
    "            cfg.add_model_parameter(\"fraction_infected\", Is) # 用模拟值做初始感染率\n",
    "            model.set_initial_status(cfg)\n",
    "            iterations = model.iteration_bunch(bunch_size=3000)\n",
    "            trends = model.build_trends(iterations)\n",
    "            save_obj(trends, './scen3_data/beta_{}gamma_{}d_{}type{}'.format(beta_t, gamma_t,d,type))\n",
    "            gt_param = {'graph_para': graph_para, 'Is':0.002, 'beta_gt':beta_t, 'gamma_gt':gamma_t, 'gts': trends, 'n_nodes':5000, 'save_dir':'./scen3_data/res/'}\n",
    "            run(gt_param, beta = 0.01, gamma=0.01, task = \"all\", Q_x = 1e-4, Q_param = 1e-4, P_x = 5e-4, P_param = 1e-2, R_x= 5e-3, N = 50, windows = 10, rounds =3000, measurement_mode='both', name=\"{}{}{}{}\".format(type, d,beta_t, gamma_t))"
   ]
  },
  {
   "cell_type": "code",
   "execution_count": null,
   "metadata": {},
   "outputs": [],
   "source": [
    "import ndlib.models.epidemics as ep\n",
    "import ndlib.models.ModelConfig as mc\n",
    "from utils import save_obj\n",
    "from enkf_diffnet import run\n",
    "import networkx as nx\n",
    "beta_t = 0.005\n",
    "gamma_t = 0.003\n",
    "Is = 0.002\n",
    "for type in ['er','ba','ws']:\n",
    "    if type == 'ba':\n",
    "        for m in [5, 5, 100, 150]:\n",
    "            graph_para = {'type':'ba','p_e': 0.1, 'p_w':0.1, 'd':5, 'm': m,  'n_nodes': 5000}\n",
    "            g = nx.random_graphs.barabasi_albert_graph(5000, m)\n",
    "            n_nodes = 5000\n",
    "            model = ep.SIRModel(g)\n",
    "            cfg = mc.Configuration()\n",
    "            cfg.add_model_parameter('beta', beta_t)\n",
    "            cfg.add_model_parameter('gamma', gamma_t)\n",
    "            cfg.add_model_parameter(\"fraction_infected\", Is) # 用模拟值做初始感染率\n",
    "            model.set_initial_status(cfg)\n",
    "            iterations = model.iteration_bunch(bunch_size=3000)\n",
    "            trends = model.build_trends(iterations)\n",
    "            save_obj(trends, './scen3_data/beta_{}gamma_{}m_{}type{}'.format(beta_t, gamma_t,m,type))\n",
    "            gt_param = {'graph_para': graph_para, 'Is':0.002, 'beta_gt':beta_t, 'gamma_gt':gamma_t, 'gts': trends, 'n_nodes':5000, 'save_dir':'./scen3_data/res/'}\n",
    "            run(gt_param, beta = 0.01, gamma=0.01, task = \"all\", Q_x = 1e-4, Q_param = 1e-4, P_x = 5e-4, P_param = 1e-2, R_x= 5e-3, N = 50, windows = 10, rounds =3000, measurement_mode='both', name=\"{}{}\".format(type, m))"
   ]
  }
 ],
 "metadata": {
  "kernelspec": {
   "display_name": "enkf",
   "language": "python",
   "name": "python3"
  },
  "language_info": {
   "codemirror_mode": {
    "name": "ipython",
    "version": 3
   },
   "file_extension": ".py",
   "mimetype": "text/x-python",
   "name": "python",
   "nbconvert_exporter": "python",
   "pygments_lexer": "ipython3",
   "version": "3.8.19"
  }
 },
 "nbformat": 4,
 "nbformat_minor": 2
}
