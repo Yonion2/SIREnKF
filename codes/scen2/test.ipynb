{
 "cells": [
  {
   "cell_type": "code",
   "execution_count": 2,
   "metadata": {},
   "outputs": [
    {
     "name": "stdout",
     "output_type": "stream",
     "text": [
      "0\n"
     ]
    },
    {
     "ename": "",
     "evalue": "",
     "output_type": "error",
     "traceback": [
      "\u001b[1;31mThe Kernel crashed while executing code in the current cell or a previous cell. \n",
      "\u001b[1;31mPlease review the code in the cell(s) to identify a possible cause of the failure. \n",
      "\u001b[1;31mClick <a href='https://aka.ms/vscodeJupyterKernelCrash'>here</a> for more info. \n",
      "\u001b[1;31mView Jupyter <a href='command:jupyter.viewOutput'>log</a> for further details."
     ]
    }
   ],
   "source": [
    "class DiffusionModel:\n",
    "    def __init__(self) -> None:\n",
    "        print(0)\n",
    "        \n",
    "class SIRModel(DiffusionModel):\n",
    "    \"\"\"\n",
    "       Model Parameters to be specified via ModelConfig\n",
    "\n",
    "       :param beta: The infection rate (float value in [0,1])\n",
    "       :param gamma: The recovery rate (float value in [0,1])\n",
    "    \"\"\"\n",
    "\n",
    "    def __init__(self):\n",
    "        \"\"\"\n",
    "             Model Constructor\n",
    "\n",
    "             :param graph: A networkx graph object\n",
    "         \"\"\"\n",
    "        super(SIRModel, self).__init__()\n",
    "        self.available_statuses = {\n",
    "            \"Susceptible\": 0,\n",
    "            \"Infected\": 1,\n",
    "            \"Removed\": 2\n",
    "        }\n",
    "\n",
    "class Hsir(SIRModel):\n",
    "    def __init__(self):\n",
    "        \"\"\"\n",
    "             Model Constructor\n",
    "\n",
    "             :param graph: A networkx graph object\n",
    "         \"\"\"\n",
    "        super(self.__class__, self).__init__()\n",
    "g = Hsir()"
   ]
  },
  {
   "cell_type": "code",
   "execution_count": null,
   "metadata": {},
   "outputs": [],
   "source": [
    "1+1"
   ]
  },
  {
   "cell_type": "code",
   "execution_count": null,
   "metadata": {},
   "outputs": [],
   "source": []
  }
 ],
 "metadata": {
  "kernelspec": {
   "display_name": "enkf",
   "language": "python",
   "name": "python3"
  },
  "language_info": {
   "codemirror_mode": {
    "name": "ipython",
    "version": 3
   },
   "file_extension": ".py",
   "mimetype": "text/x-python",
   "name": "python",
   "nbconvert_exporter": "python",
   "pygments_lexer": "ipython3",
   "version": "3.8.19"
  }
 },
 "nbformat": 4,
 "nbformat_minor": 2
}
