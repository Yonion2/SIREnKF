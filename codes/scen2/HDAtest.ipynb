{
 "cells": [
  {
   "cell_type": "code",
   "execution_count": 3,
   "metadata": {},
   "outputs": [],
   "source": [
    "import numpy as np\n",
    "# 我们总是可以把一般的图的节点改成int类型，所有还是用列表保存每个beta的值\n",
    "from hSIR import HyperSIRModel\n",
    "import ndlib.models.ModelConfig as mc\n",
    "import ndlib.models.epidemics as ep\n",
    "import networkx as nx\n",
    "class HDA:\n",
    "    def __init__(self, graph, beta, gamma):\n",
    "        self.graph = graph\n",
    "        self.beta = beta\n",
    "        self.gamma = gamma\n",
    "        self.n_nodes = nx.number_of_nodes(graph)\n",
    "        self.model = HyperSIRModel(self.graph)\n",
    "\n",
    "    def get_obsevation(self, round, Is, beta_cov = 0.00001, gamma_cov = 0.00001):\n",
    "        # 生成beta的随机数\n",
    "        beta_list = np.random.exponential(self.beta, self.n_nodes)\n",
    "        gamma_list = np.random.exponential(self.gamma, self.n_nodes)\n",
    "        cfg = mc.Configuration()\n",
    "        cfg.add_model_parameter('beta', beta_list)\n",
    "        cfg.add_model_parameter('gamma', gamma_list)\n",
    "        cfg.add_model_parameter(\"fraction_infected\", Is) # 用模拟值做初始感染率\n",
    "        self.model.set_initial_status(cfg)\n",
    "        iterations = self.model.iteration_bunch(bunch_size=round)\n",
    "        self.trends = self.model.build_trends(iterations)\n",
    "        \n",
    "        \n",
    "    def generate_modes(N, graph, seed, Is, params, mode, beta_gt, gamma_gt):\n",
    "        # 生成预测模型\n",
    "        # params 里面有初始值\n",
    "        # 这里取消了随机种子的设定\n",
    "        # 还是用统一模型去估计\n",
    "        sirmodels = []\n",
    "        if mode == 'beta':\n",
    "            betas = params #生成的模型的均值是真实值\n",
    "            gammas = gamma_gt * np.ones(N)  # _gt代表真实值\n",
    "        elif mode == 'gamma':  # 估计gamma\n",
    "            betas = beta_gt * np.ones(N)\n",
    "            gammas = params\n",
    "        else:\n",
    "            betas = params[0].reshape(-1)\n",
    "            gammas = params[1].reshape(-1)\n",
    "        for i in range(N):  # N是节点数目\n",
    "            model = ep.SIRModel(graph)\n",
    "            # model = ep.SIRModel(graph, seed=seed)\n",
    "            # model = ep.SIRModel(graph)\n",
    "            cfg = mc.Configuration()\n",
    "            cfg.add_model_parameter('beta', betas[i])\n",
    "            cfg.add_model_parameter('gamma', gammas[i])\n",
    "            cfg.add_model_parameter(\"fraction_infected\", Is[i]) # 用模拟值做初始感染率\n",
    "            model.set_initial_status(cfg)\n",
    "            sirmodels.append(model)\n",
    "        return sirmodels\n",
    "\n",
    "        \n",
    "    \n",
    "        \n",
    "        \n",
    "        "
   ]
  },
  {
   "cell_type": "code",
   "execution_count": 13,
   "metadata": {},
   "outputs": [],
   "source": [
    "model.params['model'][\"beta\"] = 1"
   ]
  },
  {
   "cell_type": "code",
   "execution_count": 14,
   "metadata": {},
   "outputs": [
    {
     "data": {
      "text/plain": [
       "1"
      ]
     },
     "execution_count": 14,
     "metadata": {},
     "output_type": "execute_result"
    }
   ],
   "source": [
    "model.params['model'][\"beta\"]"
   ]
  },
  {
   "cell_type": "code",
   "execution_count": 1,
   "metadata": {},
   "outputs": [],
   "source": [
    "import networkx as nx\n",
    "import matplotlib.pyplot as plt\n",
    "# 读取网络\n",
    "path = r\"C:\\Users\\xinji\\Documents\\理论论文\\卡尔曼滤波\\paper_code\\scen2\\scen2_data\\netwwork\\p2p-Gnutella05.txt\"\n",
    "def read_txt_direct(data):\n",
    "    g = nx.read_edgelist(data,  nodetype=int, create_using=nx.DiGraph())\n",
    "    return g\n",
    "g = read_txt_direct(path)"
   ]
  },
  {
   "cell_type": "code",
   "execution_count": 2,
   "metadata": {},
   "outputs": [],
   "source": [
    "# 生成观测数据\n",
    "from hSIR import HyperSIRModel\n",
    "import numpy as np\n",
    "import ndlib.models.ModelConfig as mc\n",
    "import networkx as nx\n",
    "from utils import save_obj, load_obj\n",
    "from hda_main import run\n",
    "# for beta in [0.002, 0.005, 0.01, 0.015]:\n",
    "#     gamma = 0.002\n",
    "#     round = 3000\n",
    "#     Is = 0.002\n",
    "#     n_nodes = nx.number_of_nodes(g)\n",
    "#     model = HyperSIRModel(g)\n",
    "#     beta_list = np.random.exponential(beta, n_nodes)\n",
    "#     gamma_list = np.random.exponential(gamma, n_nodes)\n",
    "#     cfg = mc.Configuration()\n",
    "#     cfg.add_model_parameter('beta', beta_list)\n",
    "#     cfg.add_model_parameter('gamma', gamma_list)\n",
    "#     cfg.add_model_parameter(\"fraction_infected\", Is) # 用模拟值做初始感染率\n",
    "#     model.set_initial_status(cfg)\n",
    "#     iterations = model.iteration_bunch(bunch_size=3000)\n",
    "#     trends = model.build_trends(iterations)\n",
    "#     save_obj(trends, './scen2_data/beta_{}trends'.format(beta))\n",
    "#     gt_param = {'graph': g, 'Is':0.002, 'beta_gt':beta, 'gamma_gt':gamma, 'gts': trends, 'n_nodes':8846, 'save_dir':'./scen2_data/res/'}\n",
    "#     run(gt_param = gt_param, beta=0.01, gamma=0.01, task='all', Q_x = 1e-4, Q_param = 1e-4, P_x = 5e-4, P_param = 1e-2, R_x= 5e-3, N = 50, windows = 10, rounds = 3000, measurement_mode='both')"
   ]
  },
  {
   "cell_type": "code",
   "execution_count": 4,
   "metadata": {},
   "outputs": [
    {
     "name": "stdout",
     "output_type": "stream",
     "text": [
      "save to:--->  ./scen2_data/res/all\\beta0.01_gamma0.01_meaboth_Qx0.0001_Qp0.0001_Px_0.0005_Pp0.01_Rx0.005_N50_L103beta_0.005gamma_0.003_num0\n"
     ]
    },
    {
     "name": "stderr",
     "output_type": "stream",
     "text": [
      "Test: 100%|██████████| 3000/3000 [32:17<00:00,  1.55it/s, gama_param=0.00284, param=0.0042] \n"
     ]
    },
    {
     "name": "stdout",
     "output_type": "stream",
     "text": [
      "save to:--->  ./scen2_data/res/all\\beta0.01_gamma0.01_meaboth_Qx0.0001_Qp0.0001_Px_0.0005_Pp0.01_Rx0.005_N50_L103beta_0.005gamma_0.006_num0\n"
     ]
    },
    {
     "name": "stderr",
     "output_type": "stream",
     "text": [
      "Test: 100%|██████████| 3000/3000 [26:11<00:00,  1.91it/s, gama_param=0.00512, param=0.00396]\n"
     ]
    },
    {
     "name": "stdout",
     "output_type": "stream",
     "text": [
      "save to:--->  ./scen2_data/res/all\\beta0.01_gamma0.01_meaboth_Qx0.0001_Qp0.0001_Px_0.0005_Pp0.01_Rx0.005_N50_L103beta_0.005gamma_0.009_num0\n"
     ]
    },
    {
     "name": "stderr",
     "output_type": "stream",
     "text": [
      "Test: 100%|██████████| 3000/3000 [22:43<00:00,  2.20it/s, gama_param=0.00636, param=0.0038] \n"
     ]
    },
    {
     "name": "stdout",
     "output_type": "stream",
     "text": [
      "save to:--->  ./scen2_data/res/all\\beta0.01_gamma0.01_meaboth_Qx0.0001_Qp0.0001_Px_0.0005_Pp0.01_Rx0.005_N50_L103beta_0.005gamma_0.012_num0\n"
     ]
    },
    {
     "name": "stderr",
     "output_type": "stream",
     "text": [
      "Test: 100%|██████████| 3000/3000 [22:36<00:00,  2.21it/s, gama_param=0.0137, param=0.00869]\n"
     ]
    },
    {
     "name": "stdout",
     "output_type": "stream",
     "text": [
      "save to:--->  ./scen2_data/res/all\\beta0.01_gamma0.01_meaboth_Qx0.0001_Qp0.0001_Px_0.0005_Pp0.01_Rx0.005_N50_L103beta_0.01gamma_0.003_num0\n"
     ]
    },
    {
     "name": "stderr",
     "output_type": "stream",
     "text": [
      "Test: 100%|██████████| 3000/3000 [33:43<00:00,  1.48it/s, gama_param=0.00253, param=0.00783]\n"
     ]
    },
    {
     "name": "stdout",
     "output_type": "stream",
     "text": [
      "save to:--->  ./scen2_data/res/all\\beta0.01_gamma0.01_meaboth_Qx0.0001_Qp0.0001_Px_0.0005_Pp0.01_Rx0.005_N50_L103beta_0.01gamma_0.006_num0\n"
     ]
    },
    {
     "name": "stderr",
     "output_type": "stream",
     "text": [
      "Test: 100%|██████████| 3000/3000 [29:19<00:00,  1.71it/s, gama_param=0.00491, param=0.0107]\n"
     ]
    },
    {
     "name": "stdout",
     "output_type": "stream",
     "text": [
      "save to:--->  ./scen2_data/res/all\\beta0.01_gamma0.01_meaboth_Qx0.0001_Qp0.0001_Px_0.0005_Pp0.01_Rx0.005_N50_L103beta_0.01gamma_0.009_num0\n"
     ]
    },
    {
     "name": "stderr",
     "output_type": "stream",
     "text": [
      "Test: 100%|██████████| 3000/3000 [26:36<00:00,  1.88it/s, gama_param=0.00858, param=0.0111]\n"
     ]
    },
    {
     "name": "stdout",
     "output_type": "stream",
     "text": [
      "save to:--->  ./scen2_data/res/all\\beta0.01_gamma0.01_meaboth_Qx0.0001_Qp0.0001_Px_0.0005_Pp0.01_Rx0.005_N50_L103beta_0.01gamma_0.012_num0\n"
     ]
    },
    {
     "name": "stderr",
     "output_type": "stream",
     "text": [
      "Test: 100%|██████████| 3000/3000 [24:49<00:00,  2.01it/s, gama_param=0.00971, param=0.00832]\n"
     ]
    },
    {
     "name": "stdout",
     "output_type": "stream",
     "text": [
      "save to:--->  ./scen2_data/res/all\\beta0.01_gamma0.01_meaboth_Qx0.0001_Qp0.0001_Px_0.0005_Pp0.01_Rx0.005_N50_L103beta_0.015gamma_0.003_num0\n"
     ]
    },
    {
     "name": "stderr",
     "output_type": "stream",
     "text": [
      "Test: 100%|██████████| 3000/3000 [35:15<00:00,  1.42it/s, gama_param=0.00234, param=0.00911]\n"
     ]
    },
    {
     "name": "stdout",
     "output_type": "stream",
     "text": [
      "save to:--->  ./scen2_data/res/all\\beta0.01_gamma0.01_meaboth_Qx0.0001_Qp0.0001_Px_0.0005_Pp0.01_Rx0.005_N50_L103beta_0.015gamma_0.006_num0\n"
     ]
    },
    {
     "name": "stderr",
     "output_type": "stream",
     "text": [
      "Test: 100%|██████████| 3000/3000 [29:37<00:00,  1.69it/s, gama_param=0.0042, param=0.0137] \n"
     ]
    },
    {
     "name": "stdout",
     "output_type": "stream",
     "text": [
      "save to:--->  ./scen2_data/res/all\\beta0.01_gamma0.01_meaboth_Qx0.0001_Qp0.0001_Px_0.0005_Pp0.01_Rx0.005_N50_L103beta_0.015gamma_0.009_num0\n"
     ]
    },
    {
     "name": "stderr",
     "output_type": "stream",
     "text": [
      "Test: 100%|██████████| 3000/3000 [27:35<00:00,  1.81it/s, gama_param=0.00515, param=0.0102]\n"
     ]
    },
    {
     "name": "stdout",
     "output_type": "stream",
     "text": [
      "save to:--->  ./scen2_data/res/all\\beta0.01_gamma0.01_meaboth_Qx0.0001_Qp0.0001_Px_0.0005_Pp0.01_Rx0.005_N50_L103beta_0.015gamma_0.012_num0\n"
     ]
    },
    {
     "name": "stderr",
     "output_type": "stream",
     "text": [
      "Test: 100%|██████████| 3000/3000 [26:19<00:00,  1.90it/s, gama_param=0.00743, param=0.0104]\n"
     ]
    },
    {
     "name": "stdout",
     "output_type": "stream",
     "text": [
      "save to:--->  ./scen2_data/res/all\\beta0.01_gamma0.01_meaboth_Qx0.0001_Qp0.0001_Px_0.0005_Pp0.01_Rx0.005_N50_L103beta_0.02gamma_0.003_num0\n"
     ]
    },
    {
     "name": "stderr",
     "output_type": "stream",
     "text": [
      "Test: 100%|██████████| 3000/3000 [34:42<00:00,  1.44it/s, gama_param=0.00205, param=0.012] \n"
     ]
    },
    {
     "name": "stdout",
     "output_type": "stream",
     "text": [
      "save to:--->  ./scen2_data/res/all\\beta0.01_gamma0.01_meaboth_Qx0.0001_Qp0.0001_Px_0.0005_Pp0.01_Rx0.005_N50_L103beta_0.02gamma_0.006_num0\n"
     ]
    },
    {
     "name": "stderr",
     "output_type": "stream",
     "text": [
      "Test: 100%|██████████| 3000/3000 [30:23<00:00,  1.64it/s, gama_param=0.00338, param=0.0127]\n"
     ]
    },
    {
     "name": "stdout",
     "output_type": "stream",
     "text": [
      "save to:--->  ./scen2_data/res/all\\beta0.01_gamma0.01_meaboth_Qx0.0001_Qp0.0001_Px_0.0005_Pp0.01_Rx0.005_N50_L103beta_0.02gamma_0.009_num0\n"
     ]
    },
    {
     "name": "stderr",
     "output_type": "stream",
     "text": [
      "Test: 100%|██████████| 3000/3000 [27:57<00:00,  1.79it/s, gama_param=0.00557, param=0.016] \n"
     ]
    },
    {
     "name": "stdout",
     "output_type": "stream",
     "text": [
      "save to:--->  ./scen2_data/res/all\\beta0.01_gamma0.01_meaboth_Qx0.0001_Qp0.0001_Px_0.0005_Pp0.01_Rx0.005_N50_L103beta_0.02gamma_0.012_num0\n"
     ]
    },
    {
     "name": "stderr",
     "output_type": "stream",
     "text": [
      "Test: 100%|██████████| 3000/3000 [26:38<00:00,  1.88it/s, gama_param=0.00634, param=0.0128]\n"
     ]
    }
   ],
   "source": [
    "from hSIR import HyperSIRModel\n",
    "import numpy as np\n",
    "import ndlib.models.ModelConfig as mc\n",
    "import networkx as nx\n",
    "from utils import save_obj, load_obj\n",
    "from hda_main import run\n",
    "import networkx as nx\n",
    "import matplotlib.pyplot as plt\n",
    "# 读取网络\n",
    "path = r\"C:\\Users\\xinji\\Documents\\理论论文\\卡尔曼滤波\\paper_code\\scen2\\scen2_data\\netwwork\\p2p-Gnutella05.txt\"\n",
    "def read_txt_direct(data):\n",
    "    g = nx.read_edgelist(data,  nodetype=int, create_using=nx.DiGraph())\n",
    "    return g\n",
    "g = read_txt_direct(path)\n",
    "for beta_t in [0.005, 0.01, 0.015, 0.02]:\n",
    "    for gamma_t in [0.003, 0.006, 0.009, 0.012]:\n",
    "        i = 0\n",
    "        round = 3000\n",
    "        Is = 0.002\n",
    "        n_nodes = nx.number_of_nodes(g)\n",
    "        model = HyperSIRModel(g)\n",
    "        beta_list = np.random.exponential(beta_t, n_nodes)\n",
    "        gamma_list = np.random.exponential(gamma_t, n_nodes)\n",
    "        cfg = mc.Configuration()\n",
    "        cfg.add_model_parameter('beta', beta_list)\n",
    "        cfg.add_model_parameter('gamma', gamma_list)\n",
    "        cfg.add_model_parameter(\"fraction_infected\", Is) # 用模拟值做初始感染率\n",
    "        model.set_initial_status(cfg)\n",
    "        iterations = model.iteration_bunch(bunch_size=3000)\n",
    "        trends = model.build_trends(iterations)\n",
    "        save_obj(trends, './scen2_data/beta_{}gamma_{}trends'.format(beta_t, gamma_t))\n",
    "        gt_param = {'graph': g, 'Is':0.002, 'beta_gt':beta_t, 'gamma_gt':gamma_t, 'gts': trends, 'n_nodes':8846, 'save_dir':'./scen2_data/res/'}\n",
    "        run(gt_param = gt_param, beta=0.01, gamma=0.01, task='all', Q_x = 1e-4, Q_param = 1e-4, P_x = 5e-4, P_param = 1e-2, R_x= 5e-3, N = 50, windows = 10, rounds = 3000, measurement_mode='both', name = 'beta_{}gamma_{}_num{}'.format(beta_t, gamma_t,i))\n"
   ]
  },
  {
   "cell_type": "code",
   "execution_count": 5,
   "metadata": {},
   "outputs": [
    {
     "data": {
      "text/plain": [
       "4.423"
      ]
     },
     "execution_count": 5,
     "metadata": {},
     "output_type": "execute_result"
    }
   ],
   "source": [
    "8846*0.0005"
   ]
  },
  {
   "cell_type": "code",
   "execution_count": 25,
   "metadata": {},
   "outputs": [
    {
     "data": {
      "text/plain": [
       "5.042927843001158"
      ]
     },
     "execution_count": 25,
     "metadata": {},
     "output_type": "execute_result"
    }
   ],
   "source": [
    "np.random.exponential(5, 10000).mean()"
   ]
  },
  {
   "cell_type": "code",
   "execution_count": null,
   "metadata": {},
   "outputs": [],
   "source": []
  },
  {
   "cell_type": "code",
   "execution_count": 10,
   "metadata": {},
   "outputs": [],
   "source": []
  },
  {
   "cell_type": "code",
   "execution_count": 11,
   "metadata": {},
   "outputs": [
    {
     "data": {
      "text/plain": [
       "[0]"
      ]
     },
     "execution_count": 11,
     "metadata": {},
     "output_type": "execute_result"
    }
   ],
   "source": []
  },
  {
   "cell_type": "code",
   "execution_count": 31,
   "metadata": {},
   "outputs": [
    {
     "data": {
      "text/plain": [
       "0.0010770525729842837"
      ]
     },
     "execution_count": 31,
     "metadata": {},
     "output_type": "execute_result"
    }
   ],
   "source": [
    "beta_list.mean()"
   ]
  },
  {
   "cell_type": "code",
   "execution_count": 34,
   "metadata": {},
   "outputs": [
    {
     "data": {
      "text/plain": [
       "0.004002284943993976"
      ]
     },
     "execution_count": 34,
     "metadata": {},
     "output_type": "execute_result"
    }
   ],
   "source": [
    "gamma_list.mean()"
   ]
  },
  {
   "cell_type": "code",
   "execution_count": 7,
   "metadata": {},
   "outputs": [
    {
     "data": {
      "text/plain": [
       "[<matplotlib.lines.Line2D at 0x21f3a1156a0>]"
      ]
     },
     "execution_count": 7,
     "metadata": {},
     "output_type": "execute_result"
    },
    {
     "data": {
      "image/png": "[encoded data removed]",
      "text/plain": [
       "<Figure size 640x480 with 1 Axes>"
      ]
     },
     "metadata": {},
     "output_type": "display_data"
    }
   ],
   "source": [
    "# 观测数据呈现\n",
    "import matplotlib.pyplot as plt\n",
    "plt.plot(trends[0]['trends']['node_count'][0])\n",
    "plt.plot(trends[0]['trends']['node_count'][1])\n",
    "plt.plot(trends[0]['trends']['node_count'][2])"
   ]
  },
  {
   "cell_type": "code",
   "execution_count": 8,
   "metadata": {},
   "outputs": [
    {
     "data": {
      "text/plain": [
       "array([0., 0., 0., 0., 0., 0., 0., 0., 0., 0., 0., 0., 0., 0., 0., 0., 0.,\n",
       "       0., 0., 0., 0., 0., 0., 0., 0., 0., 0., 0., 0., 0., 0., 0., 0., 0.,\n",
       "       0., 0., 0., 0., 0., 0., 0., 0., 0., 0., 0., 0., 0., 0., 0., 0., 0.,\n",
       "       0., 0., 0., 0., 0., 0., 0., 0., 0., 0., 0., 0., 0., 0., 0., 0., 0.,\n",
       "       0., 0., 0., 0., 0., 0., 0., 0., 0., 0., 0., 0., 0., 0., 0., 0., 0.,\n",
       "       0., 0., 0., 0., 0., 0., 0., 0., 0., 0., 0., 0., 0., 0., 0.])"
      ]
     },
     "execution_count": 8,
     "metadata": {},
     "output_type": "execute_result"
    }
   ],
   "source": []
  },
  {
   "cell_type": "code",
   "execution_count": 23,
   "metadata": {},
   "outputs": [
    {
     "ename": "SyntaxError",
     "evalue": "invalid syntax (3953026951.py, line 5)",
     "output_type": "error",
     "traceback": [
      "\u001b[1;36m  Cell \u001b[1;32mIn[23], line 5\u001b[1;36m\u001b[0m\n\u001b[1;33m    import(EnKF_both)\u001b[0m\n\u001b[1;37m          ^\u001b[0m\n\u001b[1;31mSyntaxError\u001b[0m\u001b[1;31m:\u001b[0m invalid syntax\n"
     ]
    }
   ],
   "source": [
    "# from EnKF_random import EnsembleKalmanFilter\n",
    "# from EnKF_multirun import EnsembleKalmanFilter\n",
    "# 主代码 改成我自己风格的代码\n",
    "from imp import reload\n",
    "import(EnKF_both)\n",
    "reload(EnKF_both)\n",
    "from EnKF_both import EnKFBoth\n",
    "from EnKF_delta import EnKFBeta\n",
    "from EnKF_delta_gamma import EnKFGamma\n",
    "from utils import save_obj, load_obj, hx2, reverse_map, map\n",
    "from tqdm.notebook import tqdm as tqdm\n",
    "import ndlib.models.ModelConfig as mc\n",
    "import ndlib.models.epidemics as ep\n",
    "# from ndlib.viz.mpl.DiffusionTrend import DiffusionTrend\n",
    "import os\n",
    "# from generate_data import gene_obserbation\n",
    "from EnKF import EnKFBeta, EnKFGamma, EnKFBoth\n",
    "from utils import save_obj, load_obj, hx2\n",
    "from tqdm.notebook import tqdm as tqdm\n",
    "# from ndlib.viz.mpl.DiffusionTrend import DiffusionTrend\n",
    "import os\n",
    "# from generate_data import gene_obserbation\n",
    "from numpy.random import multivariate_normal\n",
    "\n",
    "def generate_modes(N, graph, seed, Is, params, mode, beta_gt, gamma_gt):\n",
    "    # 生成预测模型\n",
    "    # params 里面有初始值\n",
    "    # 这里取消了随机种子的设定\n",
    "    n_nodes = nx.number_of_nodes(graph)\n",
    "    sirmodels = []\n",
    "    if mode == 'beta':\n",
    "        betas = params #生成的模型的均值是真实值\n",
    "        gammas = gamma_gt * np.ones(N)  # _gt代表真实值\n",
    "    elif mode == 'gamma':  # 估计gamma\n",
    "        betas = beta_gt * np.ones(N)\n",
    "        gammas = params\n",
    "    else:\n",
    "        betas = params[0].reshape(-1)\n",
    "        gammas = params[1].reshape(-1)\n",
    "    for i in range(N):  # N是节点数目\n",
    "        model = HyperSIRModel(graph)\n",
    "        cfg = mc.Configuration()\n",
    "        cfg.add_model_parameter('beta', np.random.exponential(betas[i], int(n_nodes)))\n",
    "        cfg.add_model_parameter('gamma', np.random.exponential(gammas[i], int(n_nodes)))\n",
    "        cfg.add_model_parameter(\"fraction_infected\", Is[i]) # 用模拟值做初始感染率\n",
    "        model.set_initial_status(cfg)\n",
    "        sirmodels.append(model)\n",
    "    return sirmodels\n",
    "\n",
    "\n",
    "def get_initial_state(models):\n",
    "    # 对每个样本计算当前的感染率和转化率\n",
    "    Is = []\n",
    "    Rs = []\n",
    "    for model in models:\n",
    "        i = 0\n",
    "        r = 0\n",
    "        cnt = 0\n",
    "        for key, val in model.initial_status.items():\n",
    "            if val == 1:  #如果是在感染状态\n",
    "                i += 1\n",
    "            elif val == 2:  #如果是在恢复状态\n",
    "                r += 1\n",
    "            cnt += 1\n",
    "        Is.append(i/cnt)  # 平均感染率\n",
    "        Rs.append(r/cnt)  # 平均回复率\n",
    "    return Is, Rs\n",
    "\n",
    "def run(gt_param, beta, gamma, task, Q_x, Q_param, P_x, P_param, R_x, N, windows, rounds, measurement_mode='infection'):\n",
    "    # 把生成观测和预测放在一起\n",
    "    assert measurement_mode in ['infection', 'both'] # [仅观测感染率，观测感染率和移除率]\n",
    "    gt_graph = gt_param['graph']\n",
    "    gt_beta = gt_param['beta_gt']\n",
    "    gt_gamma = gt_param['gamma_gt']\n",
    "    gts = gt_param['gts']\n",
    "    n_nodes = gt_param['n_nodes']\n",
    "    if task in ['beta', 'gamma']:\n",
    "        if task == 'beta':\n",
    "            x_mean = np.array([10/n_nodes, 0/n_nodes, beta]) # infected, removed, beta\n",
    "        else:\n",
    "            x_mean = np.array([10/n_nodes, 0/n_nodes, gamma]) # 这里的beta不是beta_gt 是随机的\n",
    "        Q = np.diag([Q_x**2, Q_x**2, Q_param**2])\n",
    "        P = np.diag([P_x**2, P_x**2, P_param**2])\n",
    "    else:\n",
    "        x_mean = np.array([10/n_nodes, 0/n_nodes, beta, gamma])\n",
    "        Q = np.diag([Q_x**2, Q_x**2, Q_param**2, Q_param**2])   #Q是系统误差协方差\n",
    "        P = np.diag([P_x**2, P_x**2, P_param**2, P_param**2])   # P是中间变量 是进入系统进化后的误差\n",
    "    if measurement_mode == 'both':\n",
    "        R = np.diag([R_x**2, R_x**2])  # R是观测误差协方差\n",
    "    else:\n",
    "        R = np.diag([R_x**2])\n",
    "    states_init = multivariate_normal(mean=x_mean, cov=P, size=N)  #size为样本大小  shape(N,3)\n",
    "    Is = np.clip(states_init[:, 0].reshape(-1), 0.001, 0.003)  # 限制下初始感染率  reshape(-1)改成一串 没有行列 限制在0.001 到0.003之间\n",
    "    if task == 'beta':\n",
    "        params = np.clip(states_init[:, -1].reshape(-1), 0.0001, 0.5) # 最后一个参数是beta 对它做处理\n",
    "    elif task == 'gamma':\n",
    "        params = np.clip(states_init[:, -1].reshape(-1), 0.0001, 0.5) # 只同化一个参数\n",
    "    else:\n",
    "        params1 = np.clip(states_init[:, -2].reshape(-1), 0.0001, 0.5) # 同时同化两个参数\n",
    "        params2 = np.clip(states_init[:, -1].reshape(-1), 0.0001, 0.5) # 同时同化两个参数\n",
    "        params = [params1, params2]\n",
    "    # 模型要求初始移除率为0\n",
    "    sirmodels = generate_modes(N, gt_graph, 0, Is, params, task, gt_beta, gt_gamma)\n",
    "\n",
    "    dim_z = R.shape[0]  # 需要估计的参数数量\n",
    "    current_Is, current_Rs = get_initial_state(sirmodels)  # 每个样本的平均感染率\n",
    "    if task in ['beta', 'gamma']:\n",
    "        x = np.array([current_Is, current_Rs, [map(l) for l in states_init[:, -1].reshape(-1).tolist()]]).T\n",
    "        if task == 'beta':\n",
    "            enkf = EnKFBeta(x, P, dim_z, N, hx, sirmodels, n_nodes, task=task) # x代表初始状态  hx返回numpy形式的第一个值\n",
    "        else:\n",
    "            enkf = EnKFGamma(x, P, dim_z, N, hx, sirmodels, n_nodes, task=task) # hx是函数，返回更新后的观测值\n",
    "    else:\n",
    "        current_betas = [map(l) for l in states_init[:, -2].reshape(-1).tolist()]  # 把值映到R上\n",
    "        current_gammas = [map(l) for l in states_init[:, -1].reshape(-1).tolist()]\n",
    "        x = np.array([current_Is, current_Rs, current_betas, current_gammas]).T # x的每个元素的长度是样本量\n",
    "        if measurement_mode == 'both':\n",
    "            enkf = EnKFBoth(x, P, dim_z, N, hx2, sirmodels, n_nodes, task=task)\n",
    "        else:\n",
    "            raise NotImplementedError\n",
    "    post_states = list()\n",
    "    prior_states = list()\n",
    "    save_path = 'beta{}_gamma{}_mea{}_Qx{}_Qp{}_Px_{}_Pp{}_Rx{}_N{}_L{}'.format(\n",
    "                        beta, gamma, measurement_mode, Q_x, Q_param, P_x, P_param, R_x, N, windows)\n",
    "    save_dir = gt_param['save_dir']+task\n",
    "    if not os.path.exists(save_dir):\n",
    "        os.makedirs(save_dir)\n",
    "    full_path = os.path.join(save_dir, save_path)\n",
    "    print('save to:---> ', full_path)\n",
    "    with tqdm(range(rounds), desc='Test') as tbar:\n",
    "        for i in tbar:\n",
    "            if measurement_mode == 'both':\n",
    "                measurement = np.array([gts[0]['trends']['node_count'][j][i] / n_nodes for j in range(1, 3)])\n",
    "            else:\n",
    "                measurement = np.array([gts[0]['trends']['node_count'][1][i] / n_nodes]) # 感染率\n",
    "            if task == 'all':\n",
    "                # 如果同时估计两个参数，则开启自适应噪声\n",
    "                Q[0][0] = max(min((measurement[0] * 3e-2)**2, 3e-3**2), 5e-6**2)\n",
    "                Q[1][1] = max(min((measurement[-1] * 3e-2)**2, 3e-3**2), 5e-6**2)\n",
    "                R[0][0] = max(min((measurement[0] * 4e-2)**2, 6e-3**2), 5e-6**2)\n",
    "                enkf.predict(Q, windows=windows)\n",
    "            else:\n",
    "                if i % 250 == 0:\n",
    "                    Q[-1][-1] /= (5.0**2)\n",
    "                    R[-1] /= (5.0**2)\n",
    "                enkf.predict(Q, windows=windows)\n",
    "            enkf.update(measurement, R)\n",
    "            post_states.append(enkf.x)\n",
    "            prior_states.append(enkf.x_prior)\n",
    "            # if i % 50 == 0:\n",
    "            #     np.save(full_path, post_states) # 保存EnKF修正后结果  #如果文件路径末尾没有扩展名.npy，该扩展名会被自动加上。\n",
    "            #     np.save(full_path+'_before', prior_states) # 保存预测结果\n",
    "            if task == 'beta':\n",
    "                tbar.set_postfix(param = reverse_map(post_states[-1][-1]))\n",
    "                # print('param: ', reverse_map(post_states[-1][-1]))\n",
    "            elif task == 'gamma':\n",
    "                tbar.set_postfix(gama_param = reverse_map(post_states[-1][-1]))\n",
    "                # print('gamma param: ', reverse_map(post_states[-1][-1]))\n",
    "            else:\n",
    "                tbar.set_postfix(param = reverse_map(post_states[-1][-2]), gama_param = reverse_map(post_states[-1][-1]))\n",
    "                # print('beta estimate={}, gamma estimate={}'.format(reverse_map(post_states[-1][-2]), reverse_map(post_states[-1][-1])))\n",
    "    np.save(full_path, post_states)\n",
    "    np.save(full_path+'_before', prior_states)\n",
    "    # 要保存每次估计的参数， 已经保存过了\n",
    "    ## 应该加上生成图片的模块\n",
    "\n",
    "\n",
    "\n"
   ]
  },
  {
   "cell_type": "code",
   "execution_count": 24,
   "metadata": {},
   "outputs": [
    {
     "ename": "KeyError",
     "evalue": "5244",
     "output_type": "error",
     "traceback": [
      "\u001b[1;31m---------------------------------------------------------------------------\u001b[0m",
      "\u001b[1;31mKeyError\u001b[0m                                  Traceback (most recent call last)",
      "Cell \u001b[1;32mIn[24], line 6\u001b[0m\n\u001b[0;32m      2\u001b[0m \u001b[38;5;66;03m# output_file = \"./data/res_0924/outer.txt\"\u001b[39;00m\n\u001b[0;32m      3\u001b[0m \u001b[38;5;66;03m# with open(output_file, 'w') as f:\u001b[39;00m\n\u001b[0;32m      5\u001b[0m gt_param \u001b[38;5;241m=\u001b[39m {\u001b[38;5;124m'\u001b[39m\u001b[38;5;124mgraph\u001b[39m\u001b[38;5;124m'\u001b[39m: g, \u001b[38;5;124m'\u001b[39m\u001b[38;5;124mbeta_gt\u001b[39m\u001b[38;5;124m'\u001b[39m:\u001b[38;5;241m0.001\u001b[39m, \u001b[38;5;124m'\u001b[39m\u001b[38;5;124mgamma_gt\u001b[39m\u001b[38;5;124m'\u001b[39m:\u001b[38;5;241m0.004\u001b[39m, \u001b[38;5;124m'\u001b[39m\u001b[38;5;124mgts\u001b[39m\u001b[38;5;124m'\u001b[39m: trends, \u001b[38;5;124m'\u001b[39m\u001b[38;5;124mn_nodes\u001b[39m\u001b[38;5;124m'\u001b[39m:\u001b[38;5;241m8846\u001b[39m, \u001b[38;5;124m'\u001b[39m\u001b[38;5;124msave_dir\u001b[39m\u001b[38;5;124m'\u001b[39m:\u001b[38;5;124m'\u001b[39m\u001b[38;5;124m./scen2_data/res/\u001b[39m\u001b[38;5;124m'\u001b[39m}\n\u001b[1;32m----> 6\u001b[0m \u001b[43mrun\u001b[49m\u001b[43m(\u001b[49m\u001b[43mgt_param\u001b[49m\u001b[43m \u001b[49m\u001b[38;5;241;43m=\u001b[39;49m\u001b[43m \u001b[49m\u001b[43mgt_param\u001b[49m\u001b[43m,\u001b[49m\u001b[43m \u001b[49m\u001b[43mbeta\u001b[49m\u001b[38;5;241;43m=\u001b[39;49m\u001b[38;5;241;43m0.01\u001b[39;49m\u001b[43m,\u001b[49m\u001b[43m \u001b[49m\u001b[43mgamma\u001b[49m\u001b[38;5;241;43m=\u001b[39;49m\u001b[38;5;241;43m0.01\u001b[39;49m\u001b[43m,\u001b[49m\u001b[43m \u001b[49m\u001b[43mtask\u001b[49m\u001b[38;5;241;43m=\u001b[39;49m\u001b[38;5;124;43m'\u001b[39;49m\u001b[38;5;124;43mall\u001b[39;49m\u001b[38;5;124;43m'\u001b[39;49m\u001b[43m,\u001b[49m\u001b[43m \u001b[49m\u001b[43mQ_x\u001b[49m\u001b[38;5;241;43m=\u001b[39;49m\u001b[38;5;241;43m1e-3\u001b[39;49m\u001b[43m,\u001b[49m\u001b[43m \u001b[49m\u001b[43mQ_param\u001b[49m\u001b[38;5;241;43m=\u001b[39;49m\u001b[38;5;241;43m1e-4\u001b[39;49m\u001b[43m,\u001b[49m\u001b[43m \u001b[49m\u001b[43mP_x\u001b[49m\u001b[38;5;241;43m=\u001b[39;49m\u001b[38;5;241;43m2.5e-3\u001b[39;49m\u001b[43m,\u001b[49m\u001b[43m \u001b[49m\u001b[43mP_param\u001b[49m\u001b[38;5;241;43m=\u001b[39;49m\u001b[38;5;241;43m2e-3\u001b[39;49m\u001b[43m,\u001b[49m\u001b[43m \u001b[49m\u001b[43mR_x\u001b[49m\u001b[38;5;241;43m=\u001b[39;49m\u001b[38;5;241;43m5e-3\u001b[39;49m\u001b[43m,\u001b[49m\u001b[43m \u001b[49m\u001b[43mN\u001b[49m\u001b[38;5;241;43m=\u001b[39;49m\u001b[38;5;241;43m50\u001b[39;49m\u001b[43m,\u001b[49m\u001b[43m \u001b[49m\u001b[43mwindows\u001b[49m\u001b[38;5;241;43m=\u001b[39;49m\u001b[38;5;241;43m20\u001b[39;49m\u001b[43m,\u001b[49m\u001b[43m \u001b[49m\u001b[43mrounds\u001b[49m\u001b[43m \u001b[49m\u001b[38;5;241;43m=\u001b[39;49m\u001b[43m \u001b[49m\u001b[38;5;241;43m3000\u001b[39;49m\u001b[43m,\u001b[49m\u001b[43m \u001b[49m\u001b[43mmeasurement_mode\u001b[49m\u001b[38;5;241;43m=\u001b[39;49m\u001b[38;5;124;43m'\u001b[39;49m\u001b[38;5;124;43mboth\u001b[39;49m\u001b[38;5;124;43m'\u001b[39;49m\u001b[43m)\u001b[49m\n\u001b[0;32m      7\u001b[0m \u001b[38;5;66;03m# sys.stdout.close()\u001b[39;00m\n",
      "Cell \u001b[1;32mIn[19], line 115\u001b[0m, in \u001b[0;36mrun\u001b[1;34m(gt_param, beta, gamma, task, Q_x, Q_param, P_x, P_param, R_x, N, windows, rounds, measurement_mode)\u001b[0m\n\u001b[0;32m    113\u001b[0m x \u001b[38;5;241m=\u001b[39m np\u001b[38;5;241m.\u001b[39marray([current_Is, current_Rs, current_betas, current_gammas])\u001b[38;5;241m.\u001b[39mT \u001b[38;5;66;03m# x的每个元素的长度是样本量\u001b[39;00m\n\u001b[0;32m    114\u001b[0m \u001b[38;5;28;01mif\u001b[39;00m measurement_mode \u001b[38;5;241m==\u001b[39m \u001b[38;5;124m'\u001b[39m\u001b[38;5;124mboth\u001b[39m\u001b[38;5;124m'\u001b[39m:\n\u001b[1;32m--> 115\u001b[0m     enkf \u001b[38;5;241m=\u001b[39m \u001b[43mEnKFBoth\u001b[49m\u001b[43m(\u001b[49m\u001b[43mx\u001b[49m\u001b[43m,\u001b[49m\u001b[43m \u001b[49m\u001b[43mP\u001b[49m\u001b[43m,\u001b[49m\u001b[43m \u001b[49m\u001b[43mdim_z\u001b[49m\u001b[43m,\u001b[49m\u001b[43m \u001b[49m\u001b[43mN\u001b[49m\u001b[43m,\u001b[49m\u001b[43m \u001b[49m\u001b[43mhx2\u001b[49m\u001b[43m,\u001b[49m\u001b[43m \u001b[49m\u001b[43msirmodels\u001b[49m\u001b[43m,\u001b[49m\u001b[43m \u001b[49m\u001b[43mn_nodes\u001b[49m\u001b[43m,\u001b[49m\u001b[43m \u001b[49m\u001b[43mtask\u001b[49m\u001b[38;5;241;43m=\u001b[39;49m\u001b[43mtask\u001b[49m\u001b[43m)\u001b[49m\n\u001b[0;32m    116\u001b[0m \u001b[38;5;28;01melse\u001b[39;00m:\n\u001b[0;32m    117\u001b[0m     \u001b[38;5;28;01mraise\u001b[39;00m \u001b[38;5;167;01mNotImplementedError\u001b[39;00m\n",
      "File \u001b[1;32mc:\\Users\\xinji\\Documents\\理论论文\\卡尔曼滤波\\paper_code\\scen2\\EnKF\\EnKF_both.py:40\u001b[0m, in \u001b[0;36mEnKFBoth.__init__\u001b[1;34m(self, x, P, dim_z, N, hx, sirmodels, n_nodes, task)\u001b[0m\n\u001b[0;32m     37\u001b[0m \u001b[38;5;28mself\u001b[39m\u001b[38;5;241m.\u001b[39mIs_last \u001b[38;5;241m=\u001b[39m \u001b[38;5;28mdict\u001b[39m()\n\u001b[0;32m     38\u001b[0m \u001b[38;5;28mself\u001b[39m\u001b[38;5;241m.\u001b[39mstatus_time \u001b[38;5;241m=\u001b[39m \u001b[38;5;28mdict\u001b[39m() \u001b[38;5;66;03m# self.status_time[i][j][1]: 第i个粒子第j个node由0->1的时间；self.status_time[i][j][2]: 由1->2的时间\u001b[39;00m\n\u001b[1;32m---> 40\u001b[0m \u001b[38;5;28;43mself\u001b[39;49m\u001b[38;5;241;43m.\u001b[39;49m\u001b[43minitialize\u001b[49m\u001b[43m(\u001b[49m\u001b[43mx\u001b[49m\u001b[43m,\u001b[49m\u001b[43m \u001b[49m\u001b[43mP\u001b[49m\u001b[43m)\u001b[49m\n\u001b[0;32m     41\u001b[0m \u001b[38;5;28mself\u001b[39m\u001b[38;5;241m.\u001b[39mQ \u001b[38;5;241m=\u001b[39m eye(dim_x)     \u001b[38;5;66;03m# process uncertainty\u001b[39;00m\n\u001b[0;32m     42\u001b[0m \u001b[38;5;28mself\u001b[39m\u001b[38;5;241m.\u001b[39mR \u001b[38;5;241m=\u001b[39m eye(dim_z)      \u001b[38;5;66;03m# state uncertainty\u001b[39;00m\n",
      "File \u001b[1;32mc:\\Users\\xinji\\Documents\\理论论文\\卡尔曼滤波\\paper_code\\scen2\\EnKF\\EnKF_both.py:82\u001b[0m, in \u001b[0;36mEnKFBoth.initialize\u001b[1;34m(self, x, P)\u001b[0m\n\u001b[0;32m     80\u001b[0m keys2 \u001b[38;5;241m=\u001b[39m [key \u001b[38;5;28;01mfor\u001b[39;00m key, value \u001b[38;5;129;01min\u001b[39;00m \u001b[38;5;28mself\u001b[39m\u001b[38;5;241m.\u001b[39msirmodels[i]\u001b[38;5;241m.\u001b[39mstatus\u001b[38;5;241m.\u001b[39mitems() \u001b[38;5;28;01mif\u001b[39;00m value \u001b[38;5;241m==\u001b[39m \u001b[38;5;241m2\u001b[39m]\n\u001b[0;32m     81\u001b[0m \u001b[38;5;28;01mfor\u001b[39;00m key \u001b[38;5;129;01min\u001b[39;00m keys1:\n\u001b[1;32m---> 82\u001b[0m     \u001b[38;5;28;43mself\u001b[39;49m\u001b[38;5;241;43m.\u001b[39;49m\u001b[43mstatus_time\u001b[49m\u001b[43m[\u001b[49m\u001b[43mi\u001b[49m\u001b[43m]\u001b[49m\u001b[43m[\u001b[49m\u001b[43mkey\u001b[49m\u001b[43m]\u001b[49m[\u001b[38;5;241m1\u001b[39m] \u001b[38;5;241m=\u001b[39m \u001b[38;5;241m0\u001b[39m\n\u001b[0;32m     83\u001b[0m \u001b[38;5;28;01mfor\u001b[39;00m key \u001b[38;5;129;01min\u001b[39;00m keys2:\n\u001b[0;32m     84\u001b[0m     \u001b[38;5;28mself\u001b[39m\u001b[38;5;241m.\u001b[39mstatus_time[i][key][\u001b[38;5;241m2\u001b[39m] \u001b[38;5;241m=\u001b[39m \u001b[38;5;241m0\u001b[39m\n",
      "\u001b[1;31mKeyError\u001b[0m: 5244"
     ]
    }
   ],
   "source": [
    "import sys\n",
    "# output_file = \"./data/res_0924/outer.txt\"\n",
    "# with open(output_file, 'w') as f:\n",
    "\n",
    "gt_param = {'graph': g, 'beta_gt':0.001, 'gamma_gt':0.004, 'gts': trends, 'n_nodes':8846, 'save_dir':'./scen2_data/res/'}\n",
    "run(gt_param = gt_param, beta=0.01, gamma=0.01, task='all', Q_x=1e-3, Q_param=1e-4, P_x=2.5e-3, P_param=2e-3, R_x=5e-3, N=50, windows=20, rounds = 3000, measurement_mode='both')\n",
    "# sys.stdout.close()"
   ]
  },
  {
   "cell_type": "code",
   "execution_count": 16,
   "metadata": {},
   "outputs": [
    {
     "data": {
      "text/plain": [
       "[<matplotlib.lines.Line2D at 0x12cdd0f4e80>]"
      ]
     },
     "execution_count": 16,
     "metadata": {},
     "output_type": "execute_result"
    },
    {
     "data": {
      "image/png": "[encoded data removed]",
      "text/plain": [
       "<Figure size 640x480 with 1 Axes>"
      ]
     },
     "metadata": {},
     "output_type": "display_data"
    }
   ],
   "source": [
    "import numpy as np\n",
    "# from utils import load_obj, hx, save_obj, map, reverse_map, hx2\n",
    "c = np.load(r'C:\\Users\\xinji\\Documents\\理论论文\\卡尔曼滤波\\my_code\\HDA\\data\\res_0924\\all\\beta0.005_gamma0.1_meaboth_Qx0.001_Qp0.0001_Px_0.0025_Pp0.002_Rx0.005_N50_L20.npy')\n",
    "plt.plot([reverse_map(i) for i in c[:,-1]])\n",
    "plt.plot([0.004 for i in c[:,-2]])"
   ]
  },
  {
   "cell_type": "code",
   "execution_count": null,
   "metadata": {},
   "outputs": [],
   "source": []
  },
  {
   "cell_type": "code",
   "execution_count": 15,
   "metadata": {},
   "outputs": [
    {
     "data": {
      "text/plain": [
       "[<matplotlib.lines.Line2D at 0x12cdd284c40>]"
      ]
     },
     "execution_count": 15,
     "metadata": {},
     "output_type": "execute_result"
    },
    {
     "data": {
      "image/png": "[encoded data removed]",
      "text/plain": [
       "<Figure size 640x480 with 1 Axes>"
      ]
     },
     "metadata": {},
     "output_type": "display_data"
    }
   ],
   "source": [
    "plt.plot([reverse_map(i) for i in c[:,-2]])\n",
    "plt.plot([0.001 for i in c[:,-2]])"
   ]
  },
  {
   "cell_type": "code",
   "execution_count": 24,
   "metadata": {},
   "outputs": [
    {
     "data": {
      "text/plain": [
       "[<matplotlib.lines.Line2D at 0x12cfe47b490>]"
      ]
     },
     "execution_count": 24,
     "metadata": {},
     "output_type": "execute_result"
    },
    {
     "data": {
      "image/png": "[encoded data removed]",
      "text/plain": [
       "<Figure size 640x480 with 1 Axes>"
      ]
     },
     "metadata": {},
     "output_type": "display_data"
    }
   ],
   "source": [
    "import math\n",
    "a = np.linspace(0.00001,0.005,100)\n",
    "b = [math.tan((x-1/2)*math.pi) for x in a]\n",
    "plt.plot(a,b)\n"
   ]
  },
  {
   "cell_type": "code",
   "execution_count": 14,
   "metadata": {},
   "outputs": [
    {
     "name": "stdout",
     "output_type": "stream",
     "text": [
      "Calculating best minimal value for power law fit\n",
      "Power-law exponent =  3.0570649398061978\n",
      "xmin =  5.0\n"
     ]
    },
    {
     "ename": "AttributeError",
     "evalue": "'Power_Law' object has no attribute 'truncation_power_law_parameters'",
     "output_type": "error",
     "traceback": [
      "\u001b[1;31m---------------------------------------------------------------------------\u001b[0m",
      "\u001b[1;31mAttributeError\u001b[0m                            Traceback (most recent call last)",
      "Cell \u001b[1;32mIn[14], line 17\u001b[0m\n\u001b[0;32m     15\u001b[0m \u001b[38;5;28mprint\u001b[39m(\u001b[38;5;124m'\u001b[39m\u001b[38;5;124mPower-law exponent = \u001b[39m\u001b[38;5;124m'\u001b[39m, fit\u001b[38;5;241m.\u001b[39malpha)\n\u001b[0;32m     16\u001b[0m \u001b[38;5;28mprint\u001b[39m(\u001b[38;5;124m'\u001b[39m\u001b[38;5;124mxmin = \u001b[39m\u001b[38;5;124m'\u001b[39m, fit\u001b[38;5;241m.\u001b[39mxmin)\n\u001b[1;32m---> 17\u001b[0m \u001b[38;5;28mprint\u001b[39m(\u001b[38;5;124m'\u001b[39m\u001b[38;5;124m拟合结果 = \u001b[39m\u001b[38;5;124m'\u001b[39m, \u001b[43mfit\u001b[49m\u001b[38;5;241;43m.\u001b[39;49m\u001b[43mpower_law\u001b[49m\u001b[38;5;241;43m.\u001b[39;49m\u001b[43mtruncation_power_law_parameters\u001b[49m)\n\u001b[0;32m     19\u001b[0m \u001b[38;5;66;03m# 绘制度分布的直方图\u001b[39;00m\n\u001b[0;32m     20\u001b[0m fit\u001b[38;5;241m.\u001b[39mplot_pdf(color\u001b[38;5;241m=\u001b[39m\u001b[38;5;124m'\u001b[39m\u001b[38;5;124mb\u001b[39m\u001b[38;5;124m'\u001b[39m, label\u001b[38;5;241m=\u001b[39m\u001b[38;5;124m'\u001b[39m\u001b[38;5;124m数据的直方图\u001b[39m\u001b[38;5;124m'\u001b[39m)\n",
      "\u001b[1;31mAttributeError\u001b[0m: 'Power_Law' object has no attribute 'truncation_power_law_parameters'"
     ]
    }
   ],
   "source": [
    "import networkx as nx\n",
    "import powerlaw    # 导入powerlaw库\n",
    "import matplotlib.pyplot as plt\n",
    "\n",
    "# 生成一个无标度网络作为示例\n",
    "G = nx.barabasi_albert_graph(1000, 3)\n",
    "\n",
    "# 获取网络中所有节点的度\n",
    "degrees = [G.degree(n) for n in G.nodes()]\n",
    "\n",
    "# 使用powerlaw库来拟合度分布\n",
    "fit = powerlaw.Fit(degrees)\n",
    "\n",
    "# 打印拟合结果\n",
    "print('Power-law exponent = ', fit.alpha)\n",
    "print('xmin = ', fit.xmin)\n",
    "print('拟合结果 = ', fit.power_law.truncation_power_law_parameters)\n",
    "\n",
    "# 绘制度分布的直方图\n",
    "fit.plot_pdf(color='b', label='数据的直方图')\n",
    "plt.loglog()\n",
    "plt.xlabel('度')\n",
    "plt.ylabel('概率')\n",
    "plt.title('度分布')\n",
    "\n",
    "# 绘制拟合的幂律分布曲线\n",
    "x = powerlaw.arange(1, max(degrees)+1, step=1)\n",
    "plt.loglog(x, powerlaw.pdf(x, *fit.power_law.truncation_power_law_parameters), color='r', label='拟合的幂律分布')\n",
    "\n",
    "# 显示图例\n",
    "plt.legend()\n",
    "plt.show()\n",
    "\n",
    "# 检查拟合结果是否显著\n",
    "if fit.likelihood_ratio_test('power_law'):\n",
    "    print('该分布服从幂律分布')\n",
    "else:\n",
    "    print('该分布不服从幂律分布')"
   ]
  },
  {
   "cell_type": "code",
   "execution_count": 17,
   "metadata": {},
   "outputs": [
    {
     "name": "stdout",
     "output_type": "stream",
     "text": [
      "Power-law exponent =  1.195989606580611\n",
      "xmin =  1.0\n"
     ]
    },
    {
     "ename": "AttributeError",
     "evalue": "module 'powerlaw' has no attribute 'pareto'",
     "output_type": "error",
     "traceback": [
      "\u001b[1;31m---------------------------------------------------------------------------\u001b[0m",
      "\u001b[1;31mAttributeError\u001b[0m                            Traceback (most recent call last)",
      "Cell \u001b[1;32mIn[17], line 26\u001b[0m\n\u001b[0;32m     23\u001b[0m plt\u001b[38;5;241m.\u001b[39mtitle(\u001b[38;5;124m'\u001b[39m\u001b[38;5;124m度分布\u001b[39m\u001b[38;5;124m'\u001b[39m)\n\u001b[0;32m     25\u001b[0m \u001b[38;5;66;03m# 绘制拟合的幂律分布曲线\u001b[39;00m\n\u001b[1;32m---> 26\u001b[0m x \u001b[38;5;241m=\u001b[39m \u001b[43mpowerlaw\u001b[49m\u001b[38;5;241;43m.\u001b[39;49m\u001b[43mpareto\u001b[49m\u001b[38;5;241m.\u001b[39mrvs(pl\u001b[38;5;241m.\u001b[39malpha, size\u001b[38;5;241m=\u001b[39m\u001b[38;5;28mlen\u001b[39m(degrees), loc\u001b[38;5;241m=\u001b[39m\u001b[38;5;241m1\u001b[39m, scale\u001b[38;5;241m=\u001b[39m\u001b[38;5;241m1\u001b[39m)\n\u001b[0;32m     27\u001b[0m plt\u001b[38;5;241m.\u001b[39mplot(x, powerlaw\u001b[38;5;241m.\u001b[39mpdf(x, pl\u001b[38;5;241m.\u001b[39malpha, loc\u001b[38;5;241m=\u001b[39m\u001b[38;5;241m1\u001b[39m, scale\u001b[38;5;241m=\u001b[39m\u001b[38;5;241m1\u001b[39m), color\u001b[38;5;241m=\u001b[39m\u001b[38;5;124m'\u001b[39m\u001b[38;5;124mr\u001b[39m\u001b[38;5;124m'\u001b[39m, label\u001b[38;5;241m=\u001b[39m\u001b[38;5;124m'\u001b[39m\u001b[38;5;124m拟合的幂律分布\u001b[39m\u001b[38;5;124m'\u001b[39m)\n\u001b[0;32m     29\u001b[0m \u001b[38;5;66;03m# 显示图例\u001b[39;00m\n",
      "\u001b[1;31mAttributeError\u001b[0m: module 'powerlaw' has no attribute 'pareto'"
     ]
    },
    {
     "data": {
      "image/png": "[encoded data removed]",
      "text/plain": [
       "<Figure size 640x480 with 1 Axes>"
      ]
     },
     "metadata": {},
     "output_type": "display_data"
    }
   ],
   "source": [
    "import networkx as nx\n",
    "import powerlaw\n",
    "import matplotlib.pyplot as plt\n",
    "\n",
    "# 生成一个无标度网络作为示例\n",
    "G = nx.barabasi_albert_graph(1000, 100)\n",
    "\n",
    "# 获取网络中所有节点的度\n",
    "degrees = [G.degree(n) for n in G.nodes()]\n",
    "\n",
    "# 使用powerlaw库来拟合度分布\n",
    "pl = powerlaw.Fit(degrees, xmin=1)\n",
    "\n",
    "# 打印拟合结果\n",
    "print('Power-law exponent = ', pl.alpha)\n",
    "print('xmin = ', pl.xmin)\n",
    "\n",
    "# 绘制度分布的直方图\n",
    "pl.plot_pdf(color='b', label='数据的直方图', ax=plt.gca())\n",
    "plt.loglog()\n",
    "plt.xlabel('度')\n",
    "plt.ylabel('概率')\n",
    "plt.title('度分布')\n",
    "\n",
    "# 绘制拟合的幂律分布曲线\n",
    "x = powerlaw.pareto.rvs(pl.alpha, size=len(degrees), loc=1, scale=1)\n",
    "plt.plot(x, powerlaw.pdf(x, pl.alpha, loc=1, scale=1), color='r', label='拟合的幂律分布')\n",
    "\n",
    "# 显示图例\n",
    "plt.legend()\n",
    "plt.show()\n",
    "\n",
    "# 检查拟合结果是否显著\n",
    "if pl.distribution_compare('power_law', 'lognormal'):\n",
    "    print('该分布服从幂律分布')\n",
    "else:\n",
    "    print('该分布不服从幂律分布')"
   ]
  },
  {
   "cell_type": "code",
   "execution_count": null,
   "metadata": {},
   "outputs": [],
   "source": [
    "import ndlib.models.epidemics as ep\n",
    "# from myDiffusion import DynamicDiffusionModel\n",
    "import numpy as np\n",
    "import networkx as nx\n",
    "import future.utils\n",
    "\n",
    "\n",
    "class HyperSIRModel(ep.SIRModel):\n",
    "    \"\"\"\n",
    "       Model Parameters to be specified via ModelConfig\n",
    "\n",
    "       :param beta: The infection rate (float value in [0,1])\n",
    "       :param gamma: The recovery rate (float value in [0,1])\n",
    "    \"\"\"\n",
    "    def a(self):\n",
    "        return 0\n",
    "\n",
    "    # def iteration(self, node_status=True):\n",
    "    #     \"\"\"\n",
    "    #     Execute a single model iteration\n",
    "\n",
    "    #     :return: Iteration_id, Incremental node status (dictionary node->status)\n",
    "    #     \"\"\"\n",
    "    #     self.clean_initial_status(list(self.available_statuses.values()))\n",
    "\n",
    "    #     actual_status = {node: nstatus for node, nstatus in future.utils.iteritems(self.status)}\n",
    "    #     self.active = [node for node, nstatus in future.utils.iteritems(self.status) if nstatus != self.available_statuses['Susceptible']]\n",
    "\n",
    "    #     if self.actual_iteration == 0:\n",
    "    #         self.actual_iteration += 1\n",
    "    #         delta, node_count, status_delta = self.status_delta(actual_status)\n",
    "    #         if node_status:\n",
    "    #             return {\"iteration\": 0, \"status\": actual_status.copy(),\n",
    "    #                     \"node_count\": node_count.copy(), \"status_delta\": status_delta.copy()}\n",
    "    #         else:\n",
    "    #             return {\"iteration\": 0, \"status\": {},\n",
    "    #                     \"node_count\": node_count.copy(), \"status_delta\": status_delta.copy()}\n",
    "\n",
    "    #     for u in self.active:\n",
    "\n",
    "    #         u_status = self.status[u]\n",
    "                        \n",
    "    #         if u_status == 1:\n",
    "\n",
    "    #             if self.graph.directed:\n",
    "    #                 susceptible_neighbors = [v for v in self.graph.successors(u) if self.status[v] == 0]\n",
    "    #             else:\n",
    "    #                 susceptible_neighbors = [v for v in self.graph.neighbors(u) if self.status[v] == 0]\n",
    "    #             for v in susceptible_neighbors:\n",
    "    #                 eventp = np.random.random_sample()\n",
    "    #                 if eventp < self.params['model']['beta'][u]:\n",
    "    #                     actual_status[v] = 1\n",
    "\n",
    "    #             eventp = np.random.random_sample()\n",
    "    #             if eventp < self.params['model']['gamma'][u]:\n",
    "    #                 actual_status[u] = 2\n",
    "\n",
    "    #     delta, node_count, status_delta = self.status_delta(actual_status)\n",
    "    #     self.status = actual_status\n",
    "    #     self.actual_iteration += 1\n",
    "\n",
    "    #     if node_status:\n",
    "    #         return {\"iteration\": self.actual_iteration - 1, \"status\": delta.copy(),\n",
    "    #                 \"node_count\": node_count.copy(), \"status_delta\": status_delta.copy()}\n",
    "    #     else:\n",
    "    #         return {\"iteration\": self.actual_iteration - 1, \"status\": {},\n",
    "    #                 \"node_count\": node_count.copy(), \"status_delta\": status_delta.copy()}\n"
   ]
  },
  {
   "cell_type": "code",
   "execution_count": null,
   "metadata": {},
   "outputs": [],
   "source": [
    "a = HyperSIRModel(graph)"
   ]
  },
  {
   "cell_type": "code",
   "execution_count": null,
   "metadata": {},
   "outputs": [],
   "source": [
    "import networkx as nx\n",
    "data1 = r\"C:\\Users\\xinji\\Documents\\理论论文\\卡尔曼滤波\\my_code\\data\\networks\\p2p-Gnutella05.txt\"\n",
    "def read_txt_direct(data):\n",
    "    g = nx.read_edgelist(data, create_using=nx.DiGraph())\n",
    "    return g\n",
    "graph = read_txt_direct(data1)\n"
   ]
  },
  {
   "cell_type": "code",
   "execution_count": null,
   "metadata": {},
   "outputs": [],
   "source": [
    "nx.number_of_nodes(graph)"
   ]
  },
  {
   "cell_type": "code",
   "execution_count": null,
   "metadata": {},
   "outputs": [],
   "source": [
    "a = sorted(map(int,list(graph.nodes())))\n",
    "adj_matrix_sparse = nx.adjacency_matrix(graph)"
   ]
  },
  {
   "cell_type": "code",
   "execution_count": null,
   "metadata": {},
   "outputs": [],
   "source": [
    "graph_b = nx.from_numpy_array(adj_matrix_sparse)"
   ]
  },
  {
   "cell_type": "code",
   "execution_count": null,
   "metadata": {},
   "outputs": [],
   "source": [
    "len(graph_b.nodes())"
   ]
  },
  {
   "cell_type": "code",
   "execution_count": null,
   "metadata": {},
   "outputs": [],
   "source": []
  }
 ],
 "metadata": {
  "kernelspec": {
   "display_name": "enkf",
   "language": "python",
   "name": "python3"
  },
  "language_info": {
   "codemirror_mode": {
    "name": "ipython",
    "version": 3
   },
   "file_extension": ".py",
   "mimetype": "text/x-python",
   "name": "python",
   "nbconvert_exporter": "python",
   "pygments_lexer": "ipython3",
   "version": "3.8.19"
  }
 },
 "nbformat": 4,
 "nbformat_minor": 2
}
